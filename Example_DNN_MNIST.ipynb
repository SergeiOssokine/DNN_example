{
 "cells": [
  {
   "cell_type": "code",
   "execution_count": 1,
   "metadata": {},
   "outputs": [
    {
     "name": "stderr",
     "output_type": "stream",
     "text": [
      "Using TensorFlow backend.\n"
     ]
    }
   ],
   "source": [
    "from keras.datasets import mnist \n",
    "from keras.models import Sequential\n",
    "from keras.layers import Dense\n",
    "import numpy as np"
   ]
  },
  {
   "cell_type": "code",
   "execution_count": 2,
   "metadata": {},
   "outputs": [],
   "source": [
    "import matplotlib\n",
    "%matplotlib inline\n",
    "import matplotlib.pyplot as plt"
   ]
  },
  {
   "cell_type": "code",
   "execution_count": 3,
   "metadata": {},
   "outputs": [],
   "source": [
    "(x_train,y_train),(x_test,y_test) = mnist.load_data()"
   ]
  },
  {
   "cell_type": "code",
   "execution_count": 4,
   "metadata": {},
   "outputs": [
    {
     "data": {
      "text/plain": [
       "Text(0, 0.5, 'y')"
      ]
     },
     "execution_count": 4,
     "metadata": {},
     "output_type": "execute_result"
    },
    {
     "data": {
      "image/png": "[encoded data removed]",
      "text/plain": [
       "<Figure size 288x288 with 2 Axes>"
      ]
     },
     "metadata": {
      "needs_background": "light"
     },
     "output_type": "display_data"
    }
   ],
   "source": [
    "# Let's look at an example of data\n",
    "plt.figure(figsize=(4,4))\n",
    "p=plt.imshow(x_train[1],cmap='gray')\n",
    "plt.colorbar(p)\n",
    "plt.xlabel('x')\n",
    "plt.ylabel('y')"
   ]
  },
  {
   "cell_type": "code",
   "execution_count": 5,
   "metadata": {},
   "outputs": [],
   "source": [
    "from keras.utils import np_utils"
   ]
  },
  {
   "cell_type": "code",
   "execution_count": 6,
   "metadata": {},
   "outputs": [],
   "source": [
    "# Restructure the correct labels to have the appropriate shape\n",
    "Y_train = np_utils.to_categorical(y_train,10)\n",
    "Y_test = np_utils.to_categorical(y_test,10)"
   ]
  },
  {
   "cell_type": "code",
   "execution_count": 7,
   "metadata": {},
   "outputs": [],
   "source": [
    "# Reshape to 1D array and normalize to be between [0,1]\n",
    "X_train = x_train.reshape([-1,28*28])/255.\n",
    "X_test = x_test.reshape([-1,28*28])/255."
   ]
  },
  {
   "cell_type": "code",
   "execution_count": 8,
   "metadata": {},
   "outputs": [],
   "source": [
    "init = 'glorot_normal' # This is a useful way to randomly assign initial weights\n",
    "# Build the network\n",
    "model = Sequential()\n",
    "model.add(Dense(15,input_shape = (28*28,),kernel_initializer=init,activation='tanh'))\n",
    "model.add(Dense(15,kernel_initializer=init,activation='tanh'))\n",
    "model.add(Dense(15,kernel_initializer=init,activation='tanh'))\n",
    "model.add(Dense(15,kernel_initializer=init,activation='tanh'))\n",
    "model.add(Dense(15,kernel_initializer=init,activation='tanh'))\n",
    "model.add(Dense(10,kernel_initializer=init,activation='softmax'))"
   ]
  },
  {
   "cell_type": "code",
   "execution_count": 9,
   "metadata": {},
   "outputs": [],
   "source": [
    "# Compile the model\n",
    "model.compile(loss='categorical_crossentropy',optimizer='sgd',metrics=['accuracy'])"
   ]
  },
  {
   "cell_type": "code",
   "execution_count": 10,
   "metadata": {},
   "outputs": [
    {
     "name": "stdout",
     "output_type": "stream",
     "text": [
      "_________________________________________________________________\n",
      "Layer (type)                 Output Shape              Param #   \n",
      "=================================================================\n",
      "dense_1 (Dense)              (None, 15)                11775     \n",
      "_________________________________________________________________\n",
      "dense_2 (Dense)              (None, 15)                240       \n",
      "_________________________________________________________________\n",
      "dense_3 (Dense)              (None, 15)                240       \n",
      "_________________________________________________________________\n",
      "dense_4 (Dense)              (None, 15)                240       \n",
      "_________________________________________________________________\n",
      "dense_5 (Dense)              (None, 15)                240       \n",
      "_________________________________________________________________\n",
      "dense_6 (Dense)              (None, 10)                160       \n",
      "=================================================================\n",
      "Total params: 12,895\n",
      "Trainable params: 12,895\n",
      "Non-trainable params: 0\n",
      "_________________________________________________________________\n"
     ]
    }
   ],
   "source": [
    "# Check model looks good\n",
    "model.summary()"
   ]
  },
  {
   "cell_type": "code",
   "execution_count": 11,
   "metadata": {},
   "outputs": [
    {
     "name": "stdout",
     "output_type": "stream",
     "text": [
      "Train on 60000 samples, validate on 10000 samples\n",
      "Epoch 1/30\n",
      "60000/60000 [==============================] - 2s 38us/step - loss: 1.4649 - acc: 0.5549 - val_loss: 1.0645 - val_acc: 0.7145\n",
      "Epoch 2/30\n",
      "60000/60000 [==============================] - 2s 40us/step - loss: 0.8561 - acc: 0.7989 - val_loss: 0.6587 - val_acc: 0.8553\n",
      "Epoch 3/30\n",
      "60000/60000 [==============================] - 2s 41us/step - loss: 0.5494 - acc: 0.8750 - val_loss: 0.4521 - val_acc: 0.8952\n",
      "Epoch 4/30\n",
      "60000/60000 [==============================] - 3s 44us/step - loss: 0.4081 - acc: 0.9006 - val_loss: 0.3674 - val_acc: 0.9082\n",
      "Epoch 5/30\n",
      "60000/60000 [==============================] - 3s 46us/step - loss: 0.3406 - acc: 0.9135 - val_loss: 0.3258 - val_acc: 0.9152\n",
      "Epoch 6/30\n",
      "60000/60000 [==============================] - 3s 43us/step - loss: 0.2997 - acc: 0.9225 - val_loss: 0.2906 - val_acc: 0.9222\n",
      "Epoch 7/30\n",
      "60000/60000 [==============================] - 2s 41us/step - loss: 0.2725 - acc: 0.9284 - val_loss: 0.2742 - val_acc: 0.9257\n",
      "Epoch 8/30\n",
      "60000/60000 [==============================] - 3s 43us/step - loss: 0.2522 - acc: 0.9332 - val_loss: 0.2521 - val_acc: 0.9322\n",
      "Epoch 9/30\n",
      "60000/60000 [==============================] - 3s 45us/step - loss: 0.2365 - acc: 0.9366 - val_loss: 0.2454 - val_acc: 0.9342\n",
      "Epoch 10/30\n",
      "60000/60000 [==============================] - 3s 47us/step - loss: 0.2239 - acc: 0.9404 - val_loss: 0.2332 - val_acc: 0.9367\n",
      "Epoch 11/30\n",
      "60000/60000 [==============================] - 3s 48us/step - loss: 0.2129 - acc: 0.9427 - val_loss: 0.2250 - val_acc: 0.9387\n",
      "Epoch 12/30\n",
      "60000/60000 [==============================] - 3s 42us/step - loss: 0.2034 - acc: 0.9449 - val_loss: 0.2289 - val_acc: 0.9369\n",
      "Epoch 13/30\n",
      "60000/60000 [==============================] - 3s 42us/step - loss: 0.1959 - acc: 0.9466 - val_loss: 0.2134 - val_acc: 0.9412\n",
      "Epoch 14/30\n",
      "60000/60000 [==============================] - 2s 39us/step - loss: 0.1889 - acc: 0.9478 - val_loss: 0.2074 - val_acc: 0.9409\n",
      "Epoch 15/30\n",
      "60000/60000 [==============================] - 2s 39us/step - loss: 0.1822 - acc: 0.9510 - val_loss: 0.2028 - val_acc: 0.9452\n",
      "Epoch 16/30\n",
      "60000/60000 [==============================] - 2s 36us/step - loss: 0.1766 - acc: 0.9509 - val_loss: 0.1989 - val_acc: 0.9434\n",
      "Epoch 17/30\n",
      "60000/60000 [==============================] - 2s 37us/step - loss: 0.1708 - acc: 0.9535 - val_loss: 0.1940 - val_acc: 0.9475\n",
      "Epoch 18/30\n",
      "60000/60000 [==============================] - 2s 35us/step - loss: 0.1673 - acc: 0.9540 - val_loss: 0.2051 - val_acc: 0.9427\n",
      "Epoch 19/30\n",
      "60000/60000 [==============================] - 3s 45us/step - loss: 0.1625 - acc: 0.9554 - val_loss: 0.1967 - val_acc: 0.9449\n",
      "Epoch 20/30\n",
      "60000/60000 [==============================] - 3s 50us/step - loss: 0.1591 - acc: 0.9565 - val_loss: 0.1870 - val_acc: 0.9481\n",
      "Epoch 21/30\n",
      "60000/60000 [==============================] - 3s 45us/step - loss: 0.1554 - acc: 0.9578 - val_loss: 0.1850 - val_acc: 0.9483\n",
      "Epoch 22/30\n",
      "60000/60000 [==============================] - 3s 50us/step - loss: 0.1520 - acc: 0.9587 - val_loss: 0.1892 - val_acc: 0.9457\n",
      "Epoch 23/30\n",
      "60000/60000 [==============================] - 3s 47us/step - loss: 0.1489 - acc: 0.9584 - val_loss: 0.1830 - val_acc: 0.9492\n",
      "Epoch 24/30\n",
      "60000/60000 [==============================] - 3s 47us/step - loss: 0.1462 - acc: 0.9602 - val_loss: 0.1909 - val_acc: 0.9466\n",
      "Epoch 25/30\n",
      "60000/60000 [==============================] - 3s 46us/step - loss: 0.1433 - acc: 0.9606 - val_loss: 0.1847 - val_acc: 0.9472\n",
      "Epoch 26/30\n",
      "60000/60000 [==============================] - 3s 47us/step - loss: 0.1405 - acc: 0.9616 - val_loss: 0.1804 - val_acc: 0.9471\n",
      "Epoch 27/30\n",
      "60000/60000 [==============================] - 3s 46us/step - loss: 0.1386 - acc: 0.9622 - val_loss: 0.1764 - val_acc: 0.9488\n",
      "Epoch 28/30\n",
      "60000/60000 [==============================] - 3s 46us/step - loss: 0.1360 - acc: 0.9624 - val_loss: 0.1837 - val_acc: 0.9478\n",
      "Epoch 29/30\n",
      "60000/60000 [==============================] - 3s 47us/step - loss: 0.1342 - acc: 0.9634 - val_loss: 0.1726 - val_acc: 0.9526\n",
      "Epoch 30/30\n",
      "60000/60000 [==============================] - 3s 46us/step - loss: 0.1323 - acc: 0.9642 - val_loss: 0.1680 - val_acc: 0.9517\n"
     ]
    }
   ],
   "source": [
    "# Fit!\n",
    "hist = model.fit(X_train,Y_train,batch_size=64,epochs=30,verbose=1,\n",
    "                 validation_data=(X_test,Y_test))"
   ]
  },
  {
   "cell_type": "code",
   "execution_count": 12,
   "metadata": {},
   "outputs": [],
   "source": [
    "plt.style.use(\"ggplot\")"
   ]
  },
  {
   "cell_type": "code",
   "execution_count": 13,
   "metadata": {},
   "outputs": [
    {
     "data": {
      "image/png": "[encoded data removed]",
      "text/plain": [
       "<Figure size 432x288 with 1 Axes>"
      ]
     },
     "metadata": {},
     "output_type": "display_data"
    }
   ],
   "source": [
    "plt.figure()\n",
    "plt.plot(np.array(hist.history['acc'])*100,label=\"Training\")\n",
    "plt.plot(np.array(hist.history['val_acc'])*100,label=\"Validation\",ls=\"--\")\n",
    "plt.xlabel(\"Epoch\")\n",
    "plt.ylabel(\"Accuracy (%)\")\n",
    "plt.legend(loc=4)\n",
    "plt.savefig(\"accuracy.png\",dpi=300)"
   ]
  },
  {
   "cell_type": "code",
   "execution_count": null,
   "metadata": {},
   "outputs": [],
   "source": []
  }
 ],
 "metadata": {
  "kernelspec": {
   "display_name": "Python 3",
   "language": "python",
   "name": "python3"
  },
  "language_info": {
   "codemirror_mode": {
    "name": "ipython",
    "version": 3
   },
   "file_extension": ".py",
   "mimetype": "text/x-python",
   "name": "python",
   "nbconvert_exporter": "python",
   "pygments_lexer": "ipython3",
   "version": "3.6.6"
  }
 },
 "nbformat": 4,
 "nbformat_minor": 2
}
